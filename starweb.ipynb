{
 "cells": [
  {
   "cell_type": "code",
   "execution_count": null,
   "metadata": {},
   "outputs": [],
   "source": [
    "# cd /teamspace/studios/this_studio/StarWeb\n",
    "\n",
    "# sudo docker run -d \\\n",
    "#   --name postgres-server \\\n",
    "#   -p 5432:5432 \\\n",
    "#   -e POSTGRES_USER=wangran \\\n",
    "#   -e POSTGRES_PASSWORD=wangran \\\n",
    "#   -e POSTGRES_DB=wangran \\\n",
    "#   -v $(pwd)/postgres-data:/var/lib/postgresql/data \\\n",
    "#   postgres:latest\n",
    "\n"
   ]
  },
  {
   "cell_type": "code",
   "execution_count": null,
   "metadata": {},
   "outputs": [],
   "source": [
    "cd /teamspace/studios/this_studio/StarWeb\n",
    "\n",
    "sudo docker run -d \\\n",
    "  --name postgres-server \\\n",
    "  -p 5432:5432 \\\n",
    "  -e POSTGRES_USER=wangran \\\n",
    "  -e POSTGRES_PASSWORD=wangran \\\n",
    "  -e POSTGRES_DB=wangran \\\n",
    "  postgres:latest\n"
   ]
  },
  {
   "cell_type": "code",
   "execution_count": null,
   "metadata": {},
   "outputs": [],
   "source": [
    "cd /teamspace/studios/this_studio/StarWeb\n",
    "\n",
    "uvicorn main:app --host 0.0.0.0 --port 8000 --reload\n"
   ]
  },
  {
   "cell_type": "markdown",
   "metadata": {},
   "source": [
    "### 另"
   ]
  },
  {
   "cell_type": "code",
   "execution_count": null,
   "metadata": {},
   "outputs": [],
   "source": [
    "sudo docker stop postgres-server\n",
    "sudo docker rm postgres-server\n"
   ]
  },
  {
   "cell_type": "code",
   "execution_count": null,
   "metadata": {},
   "outputs": [],
   "source": [
    "# cd /teamspace/studios/this_studio/StarWeb\n",
    "\n",
    "# docker volume create postgres_data\n",
    "# docker run -d \\\n",
    "#   --name postgres-server \\\n",
    "#   -p 5432:5432 \\\n",
    "#   -e POSTGRES_USER=wangran \\\n",
    "#   -e POSTGRES_PASSWORD=wangran \\\n",
    "#   -e POSTGRES_DB=wangran \\\n",
    "#   -v postgres_data:/var/lib/postgresql/data \\\n",
    "#   postgres:latest\n"
   ]
  },
  {
   "cell_type": "markdown",
   "metadata": {},
   "source": [
    "## 解决"
   ]
  },
  {
   "cell_type": "code",
   "execution_count": null,
   "metadata": {},
   "outputs": [],
   "source": [
    "vllm serve Qwen/Qwen2.5-0.5B-Instruct"
   ]
  },
  {
   "cell_type": "code",
   "execution_count": null,
   "metadata": {},
   "outputs": [],
   "source": [
    "vllm serve ./qwen2.5-0.5b-instruct"
   ]
  },
  {
   "cell_type": "code",
   "execution_count": null,
   "metadata": {},
   "outputs": [],
   "source": [
    "sudo chmod -R 755 /teamspace/studios/this_studio/StarWeb\n"
   ]
  },
  {
   "cell_type": "code",
   "execution_count": null,
   "metadata": {},
   "outputs": [],
   "source": [
    "cd /teamspace/studios/this_studio/StarWeb\n",
    "\n",
    "uvicorn main:app --host 0.0.0.0 --port 8000 --reload\n"
   ]
  },
  {
   "cell_type": "code",
   "execution_count": null,
   "metadata": {},
   "outputs": [],
   "source": []
  }
 ],
 "metadata": {
  "language_info": {
   "name": "python"
  }
 },
 "nbformat": 4,
 "nbformat_minor": 2
}
